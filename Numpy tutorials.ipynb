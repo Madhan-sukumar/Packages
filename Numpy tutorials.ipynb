{
 "cells": [
  {
   "cell_type": "markdown",
   "id": "9e974586",
   "metadata": {},
   "source": [
    "# SYNTAX\n",
    "\n",
    "#### np.array()- to convert list into arrays\n",
    "#### variable.shape -  will tell you the shape of the array like how may rows and columns\n",
    "#### variable.ndim - will tells the dimensions of an array\n",
    "#### variable.size - total no of elements present\n",
    "#### np.zeros() - to create zero arrays\n",
    "#### np.ones() - to create one's arrays\n",
    "#### np.arange() -  create a range of values\n",
    "#### np.linspace() - create a range of values with equal intervals\n",
    "#### np.arange(1,100,2, dtype=np.float64 ), np.array([ ],dtype=np.int64) - converting into another datatype\n",
    "#### variable[variable>=] -  boolean indexing and filtering\n",
    "#### reshape() - reshaping the array\n",
    "#### variable.transpose() / variable.T - transpose the array\n",
    "#### variable.flatten() - Flatten the array\n",
    "#### np.concatenate([var1], [var2]) - to concatenate two different arrays\n",
    "#### var1,var2 = np.split(var,2)\n",
    "####  var = np.random.normal(size=(rowsxcols)) -creating random no\n",
    "#### var = np.random.randint(low,high,size=(rowxcols)) - creating random integer\n",
    "#### np.random.shuffle(var) - shuffling the created nos\n",
    "#### np.random.permutation(range/var) -  ordering/permuting the numbers"
   ]
  },
  {
   "cell_type": "markdown",
   "id": "ca458618",
   "metadata": {},
   "source": [
    "!pip install numpy"
   ]
  },
  {
   "cell_type": "code",
   "execution_count": 6,
   "id": "6ed81e31",
   "metadata": {},
   "outputs": [],
   "source": [
    "import numpy as np"
   ]
  },
  {
   "cell_type": "markdown",
   "id": "7b935468",
   "metadata": {},
   "source": [
    "## Creating numpy array using np.array function"
   ]
  },
  {
   "cell_type": "code",
   "execution_count": 7,
   "id": "213c594a",
   "metadata": {},
   "outputs": [
    {
     "data": {
      "text/plain": [
       "list"
      ]
     },
     "execution_count": 7,
     "metadata": {},
     "output_type": "execute_result"
    }
   ],
   "source": [
    "## Creating a list to convert\n",
    "price = [ 12,178,34,60,90,96,45]\n",
    "type(price)"
   ]
  },
  {
   "cell_type": "code",
   "execution_count": 11,
   "id": "8f90aff5",
   "metadata": {},
   "outputs": [
    {
     "data": {
      "text/plain": [
       "array([ 12, 178,  34,  60,  90,  96,  45])"
      ]
     },
     "execution_count": 11,
     "metadata": {},
     "output_type": "execute_result"
    }
   ],
   "source": [
    "#converting using np.array function\n",
    "price_array = np.array(price)\n",
    "price_array"
   ]
  },
  {
   "cell_type": "code",
   "execution_count": 10,
   "id": "d9accb6f",
   "metadata": {},
   "outputs": [
    {
     "data": {
      "text/plain": [
       "numpy.ndarray"
      ]
     },
     "execution_count": 10,
     "metadata": {},
     "output_type": "execute_result"
    }
   ],
   "source": [
    "type(price_array)"
   ]
  },
  {
   "cell_type": "code",
   "execution_count": 13,
   "id": "cd9cd387",
   "metadata": {},
   "outputs": [
    {
     "data": {
      "text/plain": [
       "dtype('int32')"
      ]
     },
     "execution_count": 13,
     "metadata": {},
     "output_type": "execute_result"
    }
   ],
   "source": [
    "#checking the elements inside array what type of datatype it is\n",
    "price_array.dtype"
   ]
  },
  {
   "cell_type": "code",
   "execution_count": 15,
   "id": "68eeec3a",
   "metadata": {},
   "outputs": [
    {
     "data": {
      "text/plain": [
       "(7,)"
      ]
     },
     "execution_count": 15,
     "metadata": {},
     "output_type": "execute_result"
    }
   ],
   "source": [
    "#checking the shape\n",
    "price_array.shape"
   ]
  },
  {
   "cell_type": "code",
   "execution_count": 16,
   "id": "5bacafae",
   "metadata": {},
   "outputs": [
    {
     "data": {
      "text/plain": [
       "1"
      ]
     },
     "execution_count": 16,
     "metadata": {},
     "output_type": "execute_result"
    }
   ],
   "source": [
    "price_array.ndim"
   ]
  },
  {
   "cell_type": "markdown",
   "id": "cd16d5ba",
   "metadata": {},
   "source": [
    "## creating 2-d array"
   ]
  },
  {
   "cell_type": "code",
   "execution_count": 19,
   "id": "0cc18010",
   "metadata": {},
   "outputs": [],
   "source": [
    "array_2d = np.array([\n",
    "         [2,4,5],\n",
    "         [4,6,8],\n",
    "         [6,8,1]\n",
    "            ])"
   ]
  },
  {
   "cell_type": "code",
   "execution_count": 21,
   "id": "6067806c",
   "metadata": {},
   "outputs": [
    {
     "name": "stdout",
     "output_type": "stream",
     "text": [
      "[[2 4 5]\n",
      " [4 6 8]\n",
      " [6 8 1]]\n"
     ]
    }
   ],
   "source": [
    "print(array_2d)"
   ]
  },
  {
   "cell_type": "code",
   "execution_count": 22,
   "id": "f072a828",
   "metadata": {},
   "outputs": [
    {
     "data": {
      "text/plain": [
       "(3, 3)"
      ]
     },
     "execution_count": 22,
     "metadata": {},
     "output_type": "execute_result"
    }
   ],
   "source": [
    "#checking the shape\n",
    "array_2d.shape"
   ]
  },
  {
   "cell_type": "code",
   "execution_count": 24,
   "id": "b10814e0",
   "metadata": {},
   "outputs": [
    {
     "data": {
      "text/plain": [
       "2"
      ]
     },
     "execution_count": 24,
     "metadata": {},
     "output_type": "execute_result"
    }
   ],
   "source": [
    "#checking the dimension\n",
    "array_2d.ndim"
   ]
  },
  {
   "cell_type": "code",
   "execution_count": 25,
   "id": "28d5d8bf",
   "metadata": {},
   "outputs": [
    {
     "data": {
      "text/plain": [
       "9"
      ]
     },
     "execution_count": 25,
     "metadata": {},
     "output_type": "execute_result"
    }
   ],
   "source": [
    "# total number of elements present\n",
    "array_2d.size"
   ]
  },
  {
   "cell_type": "markdown",
   "id": "97e74d5d",
   "metadata": {},
   "source": [
    "## creating 3-d array"
   ]
  },
  {
   "cell_type": "code",
   "execution_count": 26,
   "id": "128cb711",
   "metadata": {},
   "outputs": [],
   "source": [
    "array_3d = np.array(\n",
    "                    [\n",
    "                        [[1,2],[3,4],\n",
    "                         [6,3],[7,2]]\n",
    "                    ]\n",
    ")"
   ]
  },
  {
   "cell_type": "code",
   "execution_count": 31,
   "id": "ffb7deca",
   "metadata": {},
   "outputs": [
    {
     "data": {
      "text/plain": [
       "array([[[1, 2],\n",
       "        [3, 4],\n",
       "        [6, 3],\n",
       "        [7, 2]]])"
      ]
     },
     "execution_count": 31,
     "metadata": {},
     "output_type": "execute_result"
    }
   ],
   "source": [
    "array_3d"
   ]
  },
  {
   "cell_type": "code",
   "execution_count": 27,
   "id": "5733f1c6",
   "metadata": {},
   "outputs": [
    {
     "data": {
      "text/plain": [
       "(1, 4, 2)"
      ]
     },
     "execution_count": 27,
     "metadata": {},
     "output_type": "execute_result"
    }
   ],
   "source": [
    "array_3d.shape"
   ]
  },
  {
   "cell_type": "code",
   "execution_count": 28,
   "id": "4e105415",
   "metadata": {},
   "outputs": [
    {
     "data": {
      "text/plain": [
       "3"
      ]
     },
     "execution_count": 28,
     "metadata": {},
     "output_type": "execute_result"
    }
   ],
   "source": [
    "array_3d.ndim"
   ]
  },
  {
   "cell_type": "code",
   "execution_count": 30,
   "id": "c6b3ffa5",
   "metadata": {},
   "outputs": [
    {
     "data": {
      "text/plain": [
       "8"
      ]
     },
     "execution_count": 30,
     "metadata": {},
     "output_type": "execute_result"
    }
   ],
   "source": [
    "array_3d.size"
   ]
  },
  {
   "cell_type": "code",
   "execution_count": 44,
   "id": "6cf87b93",
   "metadata": {},
   "outputs": [],
   "source": [
    "array_3d = np.array(\n",
    "                    [\n",
    "                           [[3,4,5],\n",
    "                            [5,6,7]],\n",
    "                           [[65,7,5],\n",
    "                           [59,64,78]],\n",
    "                          [[45,76,46],\n",
    "                          [65,89,23]]\n",
    "                        \n",
    "                    ]\n",
    ")"
   ]
  },
  {
   "cell_type": "code",
   "execution_count": 45,
   "id": "36b404b2",
   "metadata": {},
   "outputs": [
    {
     "data": {
      "text/plain": [
       "(3, 2, 3)"
      ]
     },
     "execution_count": 45,
     "metadata": {},
     "output_type": "execute_result"
    }
   ],
   "source": [
    "array_3d.shape"
   ]
  },
  {
   "cell_type": "code",
   "execution_count": 46,
   "id": "a06e330f",
   "metadata": {},
   "outputs": [
    {
     "data": {
      "text/plain": [
       "3"
      ]
     },
     "execution_count": 46,
     "metadata": {},
     "output_type": "execute_result"
    }
   ],
   "source": [
    "array_3d.ndim"
   ]
  },
  {
   "cell_type": "code",
   "execution_count": 47,
   "id": "b28de978",
   "metadata": {},
   "outputs": [
    {
     "data": {
      "text/plain": [
       "18"
      ]
     },
     "execution_count": 47,
     "metadata": {},
     "output_type": "execute_result"
    }
   ],
   "source": [
    "array_3d.size"
   ]
  },
  {
   "cell_type": "markdown",
   "id": "6e3190d0",
   "metadata": {},
   "source": [
    "## creating zeros arrays and ones arrays"
   ]
  },
  {
   "cell_type": "code",
   "execution_count": 32,
   "id": "028afb76",
   "metadata": {},
   "outputs": [],
   "source": [
    "zero_1d = np.zeros(5)"
   ]
  },
  {
   "cell_type": "code",
   "execution_count": 33,
   "id": "f1cd8d74",
   "metadata": {},
   "outputs": [
    {
     "data": {
      "text/plain": [
       "array([0., 0., 0., 0., 0.])"
      ]
     },
     "execution_count": 33,
     "metadata": {},
     "output_type": "execute_result"
    }
   ],
   "source": [
    "zero_1d"
   ]
  },
  {
   "cell_type": "code",
   "execution_count": 36,
   "id": "bd6b8d1d",
   "metadata": {},
   "outputs": [],
   "source": [
    "zero_2d = np.zeros((5,5))"
   ]
  },
  {
   "cell_type": "code",
   "execution_count": 37,
   "id": "8087ce48",
   "metadata": {},
   "outputs": [
    {
     "data": {
      "text/plain": [
       "array([[0., 0., 0., 0., 0.],\n",
       "       [0., 0., 0., 0., 0.],\n",
       "       [0., 0., 0., 0., 0.],\n",
       "       [0., 0., 0., 0., 0.],\n",
       "       [0., 0., 0., 0., 0.]])"
      ]
     },
     "execution_count": 37,
     "metadata": {},
     "output_type": "execute_result"
    }
   ],
   "source": [
    "zero_2d"
   ]
  },
  {
   "cell_type": "code",
   "execution_count": 48,
   "id": "6494e4e7",
   "metadata": {},
   "outputs": [],
   "source": [
    "zero_3d = np.zeros((4,2,5))"
   ]
  },
  {
   "cell_type": "code",
   "execution_count": 49,
   "id": "3e939251",
   "metadata": {},
   "outputs": [
    {
     "data": {
      "text/plain": [
       "array([[[0., 0., 0., 0., 0.],\n",
       "        [0., 0., 0., 0., 0.]],\n",
       "\n",
       "       [[0., 0., 0., 0., 0.],\n",
       "        [0., 0., 0., 0., 0.]],\n",
       "\n",
       "       [[0., 0., 0., 0., 0.],\n",
       "        [0., 0., 0., 0., 0.]],\n",
       "\n",
       "       [[0., 0., 0., 0., 0.],\n",
       "        [0., 0., 0., 0., 0.]]])"
      ]
     },
     "execution_count": 49,
     "metadata": {},
     "output_type": "execute_result"
    }
   ],
   "source": [
    "zero_3d"
   ]
  },
  {
   "cell_type": "code",
   "execution_count": 54,
   "id": "d2b44ff8",
   "metadata": {},
   "outputs": [],
   "source": [
    "one_1d = np.ones(5)"
   ]
  },
  {
   "cell_type": "code",
   "execution_count": 55,
   "id": "22554303",
   "metadata": {},
   "outputs": [
    {
     "data": {
      "text/plain": [
       "array([1., 1., 1., 1., 1.])"
      ]
     },
     "execution_count": 55,
     "metadata": {},
     "output_type": "execute_result"
    }
   ],
   "source": [
    "one_1d"
   ]
  },
  {
   "cell_type": "code",
   "execution_count": 57,
   "id": "f6be2672",
   "metadata": {},
   "outputs": [],
   "source": [
    "one_2d=np.ones((3,6))"
   ]
  },
  {
   "cell_type": "code",
   "execution_count": 58,
   "id": "28e49031",
   "metadata": {},
   "outputs": [
    {
     "data": {
      "text/plain": [
       "array([[1., 1., 1., 1., 1., 1.],\n",
       "       [1., 1., 1., 1., 1., 1.],\n",
       "       [1., 1., 1., 1., 1., 1.]])"
      ]
     },
     "execution_count": 58,
     "metadata": {},
     "output_type": "execute_result"
    }
   ],
   "source": [
    "one_2d"
   ]
  },
  {
   "cell_type": "markdown",
   "id": "3a7fa079",
   "metadata": {},
   "source": [
    "## np.arange()"
   ]
  },
  {
   "cell_type": "code",
   "execution_count": 64,
   "id": "0df070d0",
   "metadata": {},
   "outputs": [],
   "source": [
    "range = np.arange(1,50,3)"
   ]
  },
  {
   "cell_type": "code",
   "execution_count": 65,
   "id": "9b978cd0",
   "metadata": {},
   "outputs": [
    {
     "data": {
      "text/plain": [
       "array([ 1,  4,  7, 10, 13, 16, 19, 22, 25, 28, 31, 34, 37, 40, 43, 46, 49])"
      ]
     },
     "execution_count": 65,
     "metadata": {},
     "output_type": "execute_result"
    }
   ],
   "source": [
    "range"
   ]
  },
  {
   "cell_type": "code",
   "execution_count": 66,
   "id": "622f959a",
   "metadata": {},
   "outputs": [],
   "source": [
    "ar= np.array(range)"
   ]
  },
  {
   "cell_type": "code",
   "execution_count": 67,
   "id": "7b9e5e46",
   "metadata": {},
   "outputs": [
    {
     "name": "stdout",
     "output_type": "stream",
     "text": [
      "[ 1  4  7 10 13 16 19 22 25 28 31 34 37 40 43 46 49]\n"
     ]
    }
   ],
   "source": [
    "print(ar)"
   ]
  },
  {
   "cell_type": "markdown",
   "id": "dbb1e788",
   "metadata": {},
   "source": [
    "## np.linspace()"
   ]
  },
  {
   "cell_type": "code",
   "execution_count": 73,
   "id": "853120bb",
   "metadata": {},
   "outputs": [],
   "source": [
    "lin= np.linspace(2,10,100)"
   ]
  },
  {
   "cell_type": "code",
   "execution_count": 74,
   "id": "2a187c05",
   "metadata": {},
   "outputs": [
    {
     "name": "stdout",
     "output_type": "stream",
     "text": [
      "[ 2.          2.08080808  2.16161616  2.24242424  2.32323232  2.4040404\n",
      "  2.48484848  2.56565657  2.64646465  2.72727273  2.80808081  2.88888889\n",
      "  2.96969697  3.05050505  3.13131313  3.21212121  3.29292929  3.37373737\n",
      "  3.45454545  3.53535354  3.61616162  3.6969697   3.77777778  3.85858586\n",
      "  3.93939394  4.02020202  4.1010101   4.18181818  4.26262626  4.34343434\n",
      "  4.42424242  4.50505051  4.58585859  4.66666667  4.74747475  4.82828283\n",
      "  4.90909091  4.98989899  5.07070707  5.15151515  5.23232323  5.31313131\n",
      "  5.39393939  5.47474747  5.55555556  5.63636364  5.71717172  5.7979798\n",
      "  5.87878788  5.95959596  6.04040404  6.12121212  6.2020202   6.28282828\n",
      "  6.36363636  6.44444444  6.52525253  6.60606061  6.68686869  6.76767677\n",
      "  6.84848485  6.92929293  7.01010101  7.09090909  7.17171717  7.25252525\n",
      "  7.33333333  7.41414141  7.49494949  7.57575758  7.65656566  7.73737374\n",
      "  7.81818182  7.8989899   7.97979798  8.06060606  8.14141414  8.22222222\n",
      "  8.3030303   8.38383838  8.46464646  8.54545455  8.62626263  8.70707071\n",
      "  8.78787879  8.86868687  8.94949495  9.03030303  9.11111111  9.19191919\n",
      "  9.27272727  9.35353535  9.43434343  9.51515152  9.5959596   9.67676768\n",
      "  9.75757576  9.83838384  9.91919192 10.        ]\n"
     ]
    }
   ],
   "source": [
    "print(lin)"
   ]
  },
  {
   "cell_type": "markdown",
   "id": "1151a8cf",
   "metadata": {},
   "source": [
    "## working with data types using numpy"
   ]
  },
  {
   "cell_type": "code",
   "execution_count": 81,
   "id": "afb22461",
   "metadata": {},
   "outputs": [],
   "source": [
    "## now converting range of values into float datatype\n",
    "fl_dt = np.arange(1,100,2,dtype=np.float64 )"
   ]
  },
  {
   "cell_type": "code",
   "execution_count": 82,
   "id": "7604e446",
   "metadata": {},
   "outputs": [
    {
     "data": {
      "text/plain": [
       "array([ 1.,  3.,  5.,  7.,  9., 11., 13., 15., 17., 19., 21., 23., 25.,\n",
       "       27., 29., 31., 33., 35., 37., 39., 41., 43., 45., 47., 49., 51.,\n",
       "       53., 55., 57., 59., 61., 63., 65., 67., 69., 71., 73., 75., 77.,\n",
       "       79., 81., 83., 85., 87., 89., 91., 93., 95., 97., 99.])"
      ]
     },
     "execution_count": 82,
     "metadata": {},
     "output_type": "execute_result"
    }
   ],
   "source": [
    "fl_dt"
   ]
  },
  {
   "cell_type": "code",
   "execution_count": 83,
   "id": "0426e44c",
   "metadata": {},
   "outputs": [
    {
     "data": {
      "text/plain": [
       "numpy.ndarray"
      ]
     },
     "execution_count": 83,
     "metadata": {},
     "output_type": "execute_result"
    }
   ],
   "source": [
    "type(fl_dt)"
   ]
  },
  {
   "cell_type": "code",
   "execution_count": 84,
   "id": "23c27912",
   "metadata": {},
   "outputs": [],
   "source": [
    "## now converting float datatype inside list into integer array\n",
    "lt_dt = np.array([3.6,7.2,3,6,1],dtype=np.int64)"
   ]
  },
  {
   "cell_type": "code",
   "execution_count": 85,
   "id": "3233eb99",
   "metadata": {},
   "outputs": [
    {
     "data": {
      "text/plain": [
       "array([3, 7, 3, 6, 1], dtype=int64)"
      ]
     },
     "execution_count": 85,
     "metadata": {},
     "output_type": "execute_result"
    }
   ],
   "source": [
    "lt_dt"
   ]
  },
  {
   "cell_type": "code",
   "execution_count": 87,
   "id": "a42a742f",
   "metadata": {},
   "outputs": [
    {
     "data": {
      "text/plain": [
       "numpy.ndarray"
      ]
     },
     "execution_count": 87,
     "metadata": {},
     "output_type": "execute_result"
    }
   ],
   "source": [
    "type(lt_dt)"
   ]
  },
  {
   "cell_type": "markdown",
   "id": "29adecc8",
   "metadata": {},
   "source": [
    "## boolean filtering and indexing"
   ]
  },
  {
   "cell_type": "code",
   "execution_count": 88,
   "id": "f7eef996",
   "metadata": {},
   "outputs": [],
   "source": [
    "boo = np.arange(2,100,5)"
   ]
  },
  {
   "cell_type": "code",
   "execution_count": 89,
   "id": "79cac0e4",
   "metadata": {},
   "outputs": [
    {
     "data": {
      "text/plain": [
       "array([ 2,  7, 12, 17, 22, 27, 32, 37, 42, 47, 52, 57, 62, 67, 72, 77, 82,\n",
       "       87, 92, 97])"
      ]
     },
     "execution_count": 89,
     "metadata": {},
     "output_type": "execute_result"
    }
   ],
   "source": [
    "boo"
   ]
  },
  {
   "cell_type": "code",
   "execution_count": 91,
   "id": "43993b3b",
   "metadata": {},
   "outputs": [
    {
     "data": {
      "text/plain": [
       "array([32, 37, 42, 47, 52, 57, 62, 67, 72, 77, 82, 87, 92, 97])"
      ]
     },
     "execution_count": 91,
     "metadata": {},
     "output_type": "execute_result"
    }
   ],
   "source": [
    "boo[boo>=30]"
   ]
  },
  {
   "cell_type": "code",
   "execution_count": 92,
   "id": "14eada9c",
   "metadata": {},
   "outputs": [],
   "source": [
    "boo_arr =np.array ([[\n",
    "                    [2,3,4],\n",
    "                    [5,6,7],\n",
    "                    [8,9,10]\n",
    "    \n",
    "]])"
   ]
  },
  {
   "cell_type": "code",
   "execution_count": 93,
   "id": "2daa2126",
   "metadata": {},
   "outputs": [
    {
     "data": {
      "text/plain": [
       "3"
      ]
     },
     "execution_count": 93,
     "metadata": {},
     "output_type": "execute_result"
    }
   ],
   "source": [
    "boo_arr.ndim"
   ]
  },
  {
   "cell_type": "code",
   "execution_count": 95,
   "id": "c966f318",
   "metadata": {},
   "outputs": [
    {
     "data": {
      "text/plain": [
       "(1, 3, 3)"
      ]
     },
     "execution_count": 95,
     "metadata": {},
     "output_type": "execute_result"
    }
   ],
   "source": [
    "boo_arr.shape"
   ]
  },
  {
   "cell_type": "code",
   "execution_count": 97,
   "id": "39d8bfd1",
   "metadata": {},
   "outputs": [
    {
     "data": {
      "text/plain": [
       "array([[[False, False, False],\n",
       "        [False,  True,  True],\n",
       "        [ True,  True,  True]]])"
      ]
     },
     "execution_count": 97,
     "metadata": {},
     "output_type": "execute_result"
    }
   ],
   "source": [
    "boo_arr>5"
   ]
  },
  {
   "cell_type": "code",
   "execution_count": 96,
   "id": "11e3909c",
   "metadata": {},
   "outputs": [
    {
     "data": {
      "text/plain": [
       "array([ 6,  7,  8,  9, 10])"
      ]
     },
     "execution_count": 96,
     "metadata": {},
     "output_type": "execute_result"
    }
   ],
   "source": [
    "boo_arr[boo_arr>5]"
   ]
  },
  {
   "cell_type": "code",
   "execution_count": 103,
   "id": "bf4ad937",
   "metadata": {},
   "outputs": [],
   "source": [
    "boo_str=np.array(['Tom','Alex','Alice','Maya'])"
   ]
  },
  {
   "cell_type": "code",
   "execution_count": 104,
   "id": "9a2f9ece",
   "metadata": {},
   "outputs": [
    {
     "data": {
      "text/plain": [
       "array(['Tom', 'Alex', 'Alice', 'Maya'], dtype='<U5')"
      ]
     },
     "execution_count": 104,
     "metadata": {},
     "output_type": "execute_result"
    }
   ],
   "source": [
    "boo_str"
   ]
  },
  {
   "cell_type": "code",
   "execution_count": 105,
   "id": "cf82624e",
   "metadata": {},
   "outputs": [
    {
     "data": {
      "text/plain": [
       "array([False,  True, False, False])"
      ]
     },
     "execution_count": 105,
     "metadata": {},
     "output_type": "execute_result"
    }
   ],
   "source": [
    "boo_str=='Alex'"
   ]
  },
  {
   "cell_type": "code",
   "execution_count": 106,
   "id": "ada5ddf1",
   "metadata": {},
   "outputs": [
    {
     "data": {
      "text/plain": [
       "array(['Alex'], dtype='<U5')"
      ]
     },
     "execution_count": 106,
     "metadata": {},
     "output_type": "execute_result"
    }
   ],
   "source": [
    "boo_str[boo_str=='Alex']"
   ]
  },
  {
   "cell_type": "markdown",
   "id": "d637e9d7",
   "metadata": {},
   "source": [
    "### working with 2 different arrays in boolean indexing"
   ]
  },
  {
   "cell_type": "markdown",
   "id": "e7c71e1e",
   "metadata": {},
   "source": [
    "boo_str"
   ]
  },
  {
   "cell_type": "code",
   "execution_count": 108,
   "id": "17b9009d",
   "metadata": {},
   "outputs": [],
   "source": [
    "data= np.array([\n",
    "    [1,2,3,4],\n",
    "    [6,7,423,8],\n",
    "    [46,686,343,7],\n",
    "    [86,3,6,89]\n",
    "        \n",
    "    ])"
   ]
  },
  {
   "cell_type": "code",
   "execution_count": 109,
   "id": "c0067690",
   "metadata": {},
   "outputs": [
    {
     "data": {
      "text/plain": [
       "array([[  1,   2,   3,   4],\n",
       "       [  6,   7, 423,   8],\n",
       "       [ 46, 686, 343,   7],\n",
       "       [ 86,   3,   6,  89]])"
      ]
     },
     "execution_count": 109,
     "metadata": {},
     "output_type": "execute_result"
    }
   ],
   "source": [
    "data"
   ]
  },
  {
   "cell_type": "code",
   "execution_count": 110,
   "id": "a359ca17",
   "metadata": {},
   "outputs": [
    {
     "data": {
      "text/plain": [
       "(4, 4)"
      ]
     },
     "execution_count": 110,
     "metadata": {},
     "output_type": "execute_result"
    }
   ],
   "source": [
    "data.shape"
   ]
  },
  {
   "cell_type": "code",
   "execution_count": 111,
   "id": "7f1a1053",
   "metadata": {},
   "outputs": [
    {
     "data": {
      "text/plain": [
       "2"
      ]
     },
     "execution_count": 111,
     "metadata": {},
     "output_type": "execute_result"
    }
   ],
   "source": [
    "data.ndim"
   ]
  },
  {
   "cell_type": "code",
   "execution_count": 112,
   "id": "8112af33",
   "metadata": {},
   "outputs": [
    {
     "data": {
      "text/plain": [
       "array([False, False, False,  True])"
      ]
     },
     "execution_count": 112,
     "metadata": {},
     "output_type": "execute_result"
    }
   ],
   "source": [
    "boo_str == 'Maya'"
   ]
  },
  {
   "cell_type": "code",
   "execution_count": 113,
   "id": "f06fcaf8",
   "metadata": {},
   "outputs": [
    {
     "data": {
      "text/plain": [
       "array([[ 4],\n",
       "       [ 8],\n",
       "       [ 7],\n",
       "       [89]])"
      ]
     },
     "execution_count": 113,
     "metadata": {},
     "output_type": "execute_result"
    }
   ],
   "source": [
    "data[:,boo_str=='Maya']"
   ]
  },
  {
   "cell_type": "markdown",
   "id": "aa52ae67",
   "metadata": {},
   "source": [
    "## Arithmetic operations using arrays"
   ]
  },
  {
   "cell_type": "code",
   "execution_count": 114,
   "id": "80d87460",
   "metadata": {},
   "outputs": [],
   "source": [
    "arr1 = [1,2,3]\n",
    "arr2 = [4,5,6]"
   ]
  },
  {
   "cell_type": "code",
   "execution_count": 116,
   "id": "0a5f9b2a",
   "metadata": {},
   "outputs": [
    {
     "data": {
      "text/plain": [
       "[1, 2, 3, 4, 5, 6]"
      ]
     },
     "execution_count": 116,
     "metadata": {},
     "output_type": "execute_result"
    }
   ],
   "source": [
    "# its appending the python list\n",
    "arr1 + arr2"
   ]
  },
  {
   "cell_type": "code",
   "execution_count": 124,
   "id": "45a2bafa",
   "metadata": {},
   "outputs": [
    {
     "data": {
      "text/plain": [
       "[4, 5, 6, 4, 5, 6]"
      ]
     },
     "execution_count": 124,
     "metadata": {},
     "output_type": "execute_result"
    }
   ],
   "source": [
    "#appending twice the same list\n",
    "arr2*2"
   ]
  },
  {
   "cell_type": "code",
   "execution_count": 117,
   "id": "db7c4a6a",
   "metadata": {},
   "outputs": [],
   "source": [
    "arr3 = np.array([1,2,3])\n",
    "arr4 = np.array([4,5,6])"
   ]
  },
  {
   "cell_type": "code",
   "execution_count": 119,
   "id": "3c9adcc8",
   "metadata": {},
   "outputs": [
    {
     "data": {
      "text/plain": [
       "array([5, 7, 9])"
      ]
     },
     "execution_count": 119,
     "metadata": {},
     "output_type": "execute_result"
    }
   ],
   "source": [
    "#while using numpy it adds individual elements inside the array\n",
    "arr3+arr4"
   ]
  },
  {
   "cell_type": "code",
   "execution_count": 126,
   "id": "73418c0c",
   "metadata": {},
   "outputs": [
    {
     "data": {
      "text/plain": [
       "array([2, 4, 6])"
      ]
     },
     "execution_count": 126,
     "metadata": {},
     "output_type": "execute_result"
    }
   ],
   "source": [
    "#multplying the arr3 array\n",
    "arr3*2"
   ]
  },
  {
   "cell_type": "markdown",
   "id": "59b8efde",
   "metadata": {},
   "source": [
    "### performing using 2d array"
   ]
  },
  {
   "cell_type": "code",
   "execution_count": 121,
   "id": "ad1f983c",
   "metadata": {},
   "outputs": [],
   "source": [
    "ar1 =  np.array([\n",
    "            [1,2,4],\n",
    "            [5,6,7],\n",
    "            [9,3,7]\n",
    "])"
   ]
  },
  {
   "cell_type": "code",
   "execution_count": 122,
   "id": "e4ff76df",
   "metadata": {},
   "outputs": [],
   "source": [
    "ar2 = np.array([\n",
    "            [5,6,3],\n",
    "            [3,5,9],\n",
    "            [9,1,2]\n",
    "])"
   ]
  },
  {
   "cell_type": "code",
   "execution_count": 129,
   "id": "25706648",
   "metadata": {},
   "outputs": [
    {
     "data": {
      "text/plain": [
       "array([[ 5, 12, 12],\n",
       "       [15, 30, 63],\n",
       "       [81,  3, 14]])"
      ]
     },
     "execution_count": 129,
     "metadata": {},
     "output_type": "execute_result"
    }
   ],
   "source": [
    "#multiplying the each elements between two arrays\n",
    "ar1 * ar2"
   ]
  },
  {
   "cell_type": "code",
   "execution_count": 131,
   "id": "cedf4278",
   "metadata": {},
   "outputs": [
    {
     "data": {
      "text/plain": [
       "array([[ 47,  20,  29],\n",
       "       [106,  67,  83],\n",
       "       [117,  76,  68]])"
      ]
     },
     "execution_count": 131,
     "metadata": {},
     "output_type": "execute_result"
    }
   ],
   "source": [
    "#matrix multiplication\n",
    "ar1 @ ar2"
   ]
  },
  {
   "cell_type": "code",
   "execution_count": 133,
   "id": "8b7ce4f6",
   "metadata": {},
   "outputs": [
    {
     "data": {
      "text/plain": [
       "array([[ 47,  20,  29],\n",
       "       [106,  67,  83],\n",
       "       [117,  76,  68]])"
      ]
     },
     "execution_count": 133,
     "metadata": {},
     "output_type": "execute_result"
    }
   ],
   "source": [
    "#same matrix multiplication\n",
    "np.dot(ar1,ar2)"
   ]
  },
  {
   "cell_type": "markdown",
   "id": "e90ce0ea",
   "metadata": {},
   "source": [
    "## Reshaping the arrays"
   ]
  },
  {
   "cell_type": "code",
   "execution_count": 145,
   "id": "dba723e5",
   "metadata": {},
   "outputs": [],
   "source": [
    "a1 = np.arange(1,20,2)"
   ]
  },
  {
   "cell_type": "code",
   "execution_count": 146,
   "id": "921f94c9",
   "metadata": {},
   "outputs": [
    {
     "data": {
      "text/plain": [
       "(10,)"
      ]
     },
     "execution_count": 146,
     "metadata": {},
     "output_type": "execute_result"
    }
   ],
   "source": [
    "a1.shape"
   ]
  },
  {
   "cell_type": "code",
   "execution_count": 149,
   "id": "d83beffa",
   "metadata": {},
   "outputs": [],
   "source": [
    "#reshaping the array into 2x5\n",
    "rshape = a1.reshape(2,5)"
   ]
  },
  {
   "cell_type": "code",
   "execution_count": 150,
   "id": "3df965d5",
   "metadata": {},
   "outputs": [
    {
     "data": {
      "text/plain": [
       "array([[ 1,  3,  5,  7,  9],\n",
       "       [11, 13, 15, 17, 19]])"
      ]
     },
     "execution_count": 150,
     "metadata": {},
     "output_type": "execute_result"
    }
   ],
   "source": [
    "rshape"
   ]
  },
  {
   "cell_type": "code",
   "execution_count": 152,
   "id": "aeec96f5",
   "metadata": {},
   "outputs": [],
   "source": [
    "## cascading code\n",
    "rshape1=np.arange(1,20,2).reshape(5,2)"
   ]
  },
  {
   "cell_type": "code",
   "execution_count": 153,
   "id": "cfc03231",
   "metadata": {},
   "outputs": [
    {
     "data": {
      "text/plain": [
       "array([[ 1,  3],\n",
       "       [ 5,  7],\n",
       "       [ 9, 11],\n",
       "       [13, 15],\n",
       "       [17, 19]])"
      ]
     },
     "execution_count": 153,
     "metadata": {},
     "output_type": "execute_result"
    }
   ],
   "source": [
    "rshape1"
   ]
  },
  {
   "cell_type": "code",
   "execution_count": 173,
   "id": "69a3b4f5",
   "metadata": {},
   "outputs": [],
   "source": [
    "## if we want to change the order of creating arrays, like rows into column\n",
    "\n",
    "## 1. row-major order\n",
    "\n",
    "a2 = np.arange(0,20).reshape(4,5, order = 'c')"
   ]
  },
  {
   "cell_type": "code",
   "execution_count": 174,
   "id": "8c2e95ae",
   "metadata": {},
   "outputs": [
    {
     "data": {
      "text/plain": [
       "(4, 5)"
      ]
     },
     "execution_count": 174,
     "metadata": {},
     "output_type": "execute_result"
    }
   ],
   "source": [
    "a2.shape"
   ]
  },
  {
   "cell_type": "code",
   "execution_count": 175,
   "id": "faf69d44",
   "metadata": {},
   "outputs": [
    {
     "data": {
      "text/plain": [
       "array([[ 0,  1,  2,  3,  4],\n",
       "       [ 5,  6,  7,  8,  9],\n",
       "       [10, 11, 12, 13, 14],\n",
       "       [15, 16, 17, 18, 19]])"
      ]
     },
     "execution_count": 175,
     "metadata": {},
     "output_type": "execute_result"
    }
   ],
   "source": [
    "a2"
   ]
  },
  {
   "cell_type": "code",
   "execution_count": 198,
   "id": "ec238cf2",
   "metadata": {},
   "outputs": [],
   "source": [
    "# 2.column major order\n",
    "\n",
    "a3=np.arange(0,20).reshape(4,5, order='f')"
   ]
  },
  {
   "cell_type": "code",
   "execution_count": 177,
   "id": "8609a706",
   "metadata": {},
   "outputs": [
    {
     "data": {
      "text/plain": [
       "array([[ 0,  4,  8, 12, 16],\n",
       "       [ 1,  5,  9, 13, 17],\n",
       "       [ 2,  6, 10, 14, 18],\n",
       "       [ 3,  7, 11, 15, 19]])"
      ]
     },
     "execution_count": 177,
     "metadata": {},
     "output_type": "execute_result"
    }
   ],
   "source": [
    "a3"
   ]
  },
  {
   "cell_type": "code",
   "execution_count": 189,
   "id": "43c1cb64",
   "metadata": {},
   "outputs": [],
   "source": [
    "## if we don't know how many rows or column should i mention, can use \n",
    "\n",
    "a4=np.arange(20)"
   ]
  },
  {
   "cell_type": "code",
   "execution_count": 190,
   "id": "e3ba8dbc",
   "metadata": {},
   "outputs": [
    {
     "data": {
      "text/plain": [
       "(20,)"
      ]
     },
     "execution_count": 190,
     "metadata": {},
     "output_type": "execute_result"
    }
   ],
   "source": [
    "a4.shape"
   ]
  },
  {
   "cell_type": "code",
   "execution_count": 191,
   "id": "b559b614",
   "metadata": {},
   "outputs": [
    {
     "data": {
      "text/plain": [
       "array([[ 0,  1,  2,  3],\n",
       "       [ 4,  5,  6,  7],\n",
       "       [ 8,  9, 10, 11],\n",
       "       [12, 13, 14, 15],\n",
       "       [16, 17, 18, 19]])"
      ]
     },
     "execution_count": 191,
     "metadata": {},
     "output_type": "execute_result"
    }
   ],
   "source": [
    "#here i fixed i need 5 rows , so numpy will arrange based on our condition\n",
    "a4.reshape(5,-1)"
   ]
  },
  {
   "cell_type": "code",
   "execution_count": 197,
   "id": "f94afb8d",
   "metadata": {},
   "outputs": [
    {
     "data": {
      "text/plain": [
       "array([[ 0,  1,  2,  3,  4],\n",
       "       [ 5,  6,  7,  8,  9],\n",
       "       [10, 11, 12, 13, 14],\n",
       "       [15, 16, 17, 18, 19]])"
      ]
     },
     "execution_count": 197,
     "metadata": {},
     "output_type": "execute_result"
    }
   ],
   "source": [
    "#here i fixed i need 5 columns , so numpy will arrange based on our condition\n",
    "a4.reshape(-1,5)"
   ]
  },
  {
   "cell_type": "markdown",
   "id": "672c14a2",
   "metadata": {},
   "source": [
    "## Transposing and flattening"
   ]
  },
  {
   "cell_type": "code",
   "execution_count": 201,
   "id": "ee2f0217",
   "metadata": {},
   "outputs": [],
   "source": [
    "# Transposing the array\n",
    "\n",
    "arrr = np.arange(20).reshape(4,5)"
   ]
  },
  {
   "cell_type": "code",
   "execution_count": 202,
   "id": "65b829d2",
   "metadata": {},
   "outputs": [
    {
     "data": {
      "text/plain": [
       "array([[ 0,  1,  2,  3,  4],\n",
       "       [ 5,  6,  7,  8,  9],\n",
       "       [10, 11, 12, 13, 14],\n",
       "       [15, 16, 17, 18, 19]])"
      ]
     },
     "execution_count": 202,
     "metadata": {},
     "output_type": "execute_result"
    }
   ],
   "source": [
    "arrr"
   ]
  },
  {
   "cell_type": "code",
   "execution_count": 204,
   "id": "e0b61566",
   "metadata": {},
   "outputs": [
    {
     "data": {
      "text/plain": [
       "array([[ 0,  5, 10, 15],\n",
       "       [ 1,  6, 11, 16],\n",
       "       [ 2,  7, 12, 17],\n",
       "       [ 3,  8, 13, 18],\n",
       "       [ 4,  9, 14, 19]])"
      ]
     },
     "execution_count": 204,
     "metadata": {},
     "output_type": "execute_result"
    }
   ],
   "source": [
    "#transposing the array\n",
    "arrr.transpose()"
   ]
  },
  {
   "cell_type": "code",
   "execution_count": 205,
   "id": "ee675b21",
   "metadata": {},
   "outputs": [
    {
     "data": {
      "text/plain": [
       "array([[ 0,  5, 10, 15],\n",
       "       [ 1,  6, 11, 16],\n",
       "       [ 2,  7, 12, 17],\n",
       "       [ 3,  8, 13, 18],\n",
       "       [ 4,  9, 14, 19]])"
      ]
     },
     "execution_count": 205,
     "metadata": {},
     "output_type": "execute_result"
    }
   ],
   "source": [
    "arrr.T"
   ]
  },
  {
   "cell_type": "code",
   "execution_count": 213,
   "id": "88778e2e",
   "metadata": {},
   "outputs": [],
   "source": [
    "# Flatening ( converting higher dim into 1 dim)\n",
    "ar_fl = np.arange(20).reshape(5,4)"
   ]
  },
  {
   "cell_type": "code",
   "execution_count": 214,
   "id": "2463ab7e",
   "metadata": {},
   "outputs": [
    {
     "data": {
      "text/plain": [
       "array([[ 0,  1,  2,  3],\n",
       "       [ 4,  5,  6,  7],\n",
       "       [ 8,  9, 10, 11],\n",
       "       [12, 13, 14, 15],\n",
       "       [16, 17, 18, 19]])"
      ]
     },
     "execution_count": 214,
     "metadata": {},
     "output_type": "execute_result"
    }
   ],
   "source": [
    "ar_fl"
   ]
  },
  {
   "cell_type": "code",
   "execution_count": 217,
   "id": "95bce1db",
   "metadata": {},
   "outputs": [],
   "source": [
    "#converting into 1d array\n",
    "ar_fll = ar_fl.flatten()"
   ]
  },
  {
   "cell_type": "code",
   "execution_count": 218,
   "id": "62dc5301",
   "metadata": {},
   "outputs": [
    {
     "data": {
      "text/plain": [
       "1"
      ]
     },
     "execution_count": 218,
     "metadata": {},
     "output_type": "execute_result"
    }
   ],
   "source": [
    "ar_fll.ndim"
   ]
  },
  {
   "cell_type": "markdown",
   "id": "64b9a70f",
   "metadata": {},
   "source": [
    "## Concatenating the arrays"
   ]
  },
  {
   "cell_type": "code",
   "execution_count": 221,
   "id": "7d8adf96",
   "metadata": {},
   "outputs": [],
   "source": [
    "arc1 = np.array([ [1,2,3], [4,5,6]])\n",
    "arc2 = np.array([[7,9,1],[6,1,5]])"
   ]
  },
  {
   "cell_type": "code",
   "execution_count": 224,
   "id": "c262e68f",
   "metadata": {},
   "outputs": [
    {
     "name": "stdout",
     "output_type": "stream",
     "text": [
      "[[1 2 3]\n",
      " [4 5 6]]\n",
      "[[7 9 1]\n",
      " [6 1 5]]\n"
     ]
    }
   ],
   "source": [
    "print(arc1)\n",
    "print(arc2)"
   ]
  },
  {
   "cell_type": "code",
   "execution_count": 227,
   "id": "3d1a665a",
   "metadata": {},
   "outputs": [
    {
     "data": {
      "text/plain": [
       "array([[1, 2, 3],\n",
       "       [4, 5, 6],\n",
       "       [7, 9, 1],\n",
       "       [6, 1, 5]])"
      ]
     },
     "execution_count": 227,
     "metadata": {},
     "output_type": "execute_result"
    }
   ],
   "source": [
    "# concatenating the arrays in rows\n",
    "np.concatenate([arc1, arc2])"
   ]
  },
  {
   "cell_type": "code",
   "execution_count": 229,
   "id": "dbceb355",
   "metadata": {},
   "outputs": [
    {
     "data": {
      "text/plain": [
       "array([[1, 2, 3],\n",
       "       [4, 5, 6],\n",
       "       [7, 9, 1],\n",
       "       [6, 1, 5]])"
      ]
     },
     "execution_count": 229,
     "metadata": {},
     "output_type": "execute_result"
    }
   ],
   "source": [
    "#verticalstack\n",
    "np.vstack([arc1,arc2])"
   ]
  },
  {
   "cell_type": "code",
   "execution_count": 228,
   "id": "6cbc1dfe",
   "metadata": {},
   "outputs": [
    {
     "data": {
      "text/plain": [
       "array([[1, 2, 3, 7, 9, 1],\n",
       "       [4, 5, 6, 6, 1, 5]])"
      ]
     },
     "execution_count": 228,
     "metadata": {},
     "output_type": "execute_result"
    }
   ],
   "source": [
    "# concatenating the arrays in columns /  stacking as columns\n",
    "np.concatenate([arc1, arc2] , axis=1)"
   ]
  },
  {
   "cell_type": "code",
   "execution_count": 230,
   "id": "4282a401",
   "metadata": {},
   "outputs": [
    {
     "data": {
      "text/plain": [
       "array([[1, 2, 3, 7, 9, 1],\n",
       "       [4, 5, 6, 6, 1, 5]])"
      ]
     },
     "execution_count": 230,
     "metadata": {},
     "output_type": "execute_result"
    }
   ],
   "source": [
    "#horizontalstack\n",
    "np.hstack([arc1,arc2])"
   ]
  },
  {
   "cell_type": "markdown",
   "id": "0029afca",
   "metadata": {},
   "source": [
    "## splitting the arrays"
   ]
  },
  {
   "cell_type": "code",
   "execution_count": 231,
   "id": "2f04bd7a",
   "metadata": {},
   "outputs": [],
   "source": [
    "sparr = np.arange(20).reshape(4,5)"
   ]
  },
  {
   "cell_type": "code",
   "execution_count": 232,
   "id": "837a8670",
   "metadata": {},
   "outputs": [
    {
     "data": {
      "text/plain": [
       "array([[ 0,  1,  2,  3,  4],\n",
       "       [ 5,  6,  7,  8,  9],\n",
       "       [10, 11, 12, 13, 14],\n",
       "       [15, 16, 17, 18, 19]])"
      ]
     },
     "execution_count": 232,
     "metadata": {},
     "output_type": "execute_result"
    }
   ],
   "source": [
    "sparr"
   ]
  },
  {
   "cell_type": "code",
   "execution_count": 233,
   "id": "03340f4e",
   "metadata": {},
   "outputs": [],
   "source": [
    "sparr1 , sparr2,sparr3, sparr4 = np.split(sparr,4)"
   ]
  },
  {
   "cell_type": "code",
   "execution_count": 234,
   "id": "2fcc84b6",
   "metadata": {},
   "outputs": [
    {
     "name": "stdout",
     "output_type": "stream",
     "text": [
      "sparr1 : [[0 1 2 3 4]]\n",
      "sparr2 : [[5 6 7 8 9]]\n",
      "sparr3 : [[10 11 12 13 14]]\n",
      "sparr4 : [[15 16 17 18 19]]\n"
     ]
    }
   ],
   "source": [
    "print(f\"sparr1 : {sparr1}\")\n",
    "print(f\"sparr2 : {sparr2}\")\n",
    "print(f\"sparr3 : {sparr3}\")\n",
    "print(f\"sparr4 : {sparr4}\")"
   ]
  },
  {
   "cell_type": "code",
   "execution_count": 245,
   "id": "2c1785ba",
   "metadata": {},
   "outputs": [],
   "source": [
    "sp1,sp2,sp3 = np.split(sparr,[1,3])"
   ]
  },
  {
   "cell_type": "code",
   "execution_count": 247,
   "id": "f206c878",
   "metadata": {},
   "outputs": [
    {
     "name": "stdout",
     "output_type": "stream",
     "text": [
      "sp1 : [[0 1 2 3 4]]\n",
      "sp2 : [[ 5  6  7  8  9]\n",
      " [10 11 12 13 14]]\n",
      "sp3 : [[15 16 17 18 19]]\n"
     ]
    }
   ],
   "source": [
    "#[:1]\n",
    "#[1:3]\n",
    "#[3:]\n",
    "\n",
    "print(f\"sp1 : {sp1}\")\n",
    "print(f\"sp2 : {sp2}\")\n",
    "print(f\"sp3 : {sp3}\")\n"
   ]
  },
  {
   "cell_type": "markdown",
   "id": "cc677368",
   "metadata": {},
   "source": [
    "## Broadcasting\n",
    "\n",
    "> Two arrays are compatible for broadcasting only if their corresponding axis length matchs or if the either of its length is 1"
   ]
  },
  {
   "cell_type": "code",
   "execution_count": 271,
   "id": "b536f7fc",
   "metadata": {},
   "outputs": [],
   "source": [
    "arrb1 =np.array([[1,2,3]])\n",
    "arrb2 = np.array([[4,6],\n",
    "                [3,5]])"
   ]
  },
  {
   "cell_type": "code",
   "execution_count": 272,
   "id": "d6f1e3e3",
   "metadata": {},
   "outputs": [
    {
     "name": "stdout",
     "output_type": "stream",
     "text": [
      "(1, 3)\n",
      "(2, 2)\n"
     ]
    }
   ],
   "source": [
    "print(arrb1.shape)\n",
    "print(arrb2.shape)"
   ]
  },
  {
   "cell_type": "code",
   "execution_count": 274,
   "id": "6e934ecb",
   "metadata": {},
   "outputs": [
    {
     "ename": "ValueError",
     "evalue": "operands could not be broadcast together with shapes (1,3) (2,2) ",
     "output_type": "error",
     "traceback": [
      "\u001b[1;31m---------------------------------------------------------------------------\u001b[0m",
      "\u001b[1;31mValueError\u001b[0m                                Traceback (most recent call last)",
      "\u001b[1;32m<ipython-input-274-5ecd69dd8196>\u001b[0m in \u001b[0;36m<module>\u001b[1;34m\u001b[0m\n\u001b[0;32m      1\u001b[0m \u001b[1;31m#showing error coz the shape doesn't match or even having axis length as 1\u001b[0m\u001b[1;33m\u001b[0m\u001b[1;33m\u001b[0m\u001b[1;33m\u001b[0m\u001b[0m\n\u001b[1;32m----> 2\u001b[1;33m \u001b[0marrb1\u001b[0m\u001b[1;33m+\u001b[0m\u001b[0marrb2\u001b[0m\u001b[1;33m\u001b[0m\u001b[1;33m\u001b[0m\u001b[0m\n\u001b[0m",
      "\u001b[1;31mValueError\u001b[0m: operands could not be broadcast together with shapes (1,3) (2,2) "
     ]
    }
   ],
   "source": [
    "#showing error coz the shape doesn't match or even having axis length as 1\n",
    "arrb1+arrb2"
   ]
  },
  {
   "cell_type": "markdown",
   "id": "136295fb",
   "metadata": {},
   "source": [
    "barr1 = np.arange(54).reshape(6,1,9)\n",
    "barr2 = np.arange(18).reshape(1,2,9)"
   ]
  },
  {
   "cell_type": "code",
   "execution_count": 251,
   "id": "7bc0c135",
   "metadata": {},
   "outputs": [
    {
     "name": "stdout",
     "output_type": "stream",
     "text": [
      "[[[ 0  1  2  3  4  5  6  7  8]]\n",
      "\n",
      " [[ 9 10 11 12 13 14 15 16 17]]\n",
      "\n",
      " [[18 19 20 21 22 23 24 25 26]]\n",
      "\n",
      " [[27 28 29 30 31 32 33 34 35]]\n",
      "\n",
      " [[36 37 38 39 40 41 42 43 44]]\n",
      "\n",
      " [[45 46 47 48 49 50 51 52 53]]]\n"
     ]
    }
   ],
   "source": [
    "print(barr1)"
   ]
  },
  {
   "cell_type": "code",
   "execution_count": 252,
   "id": "52121e57",
   "metadata": {},
   "outputs": [
    {
     "name": "stdout",
     "output_type": "stream",
     "text": [
      "[[[ 0  1  2  3  4  5  6  7  8]\n",
      "  [ 9 10 11 12 13 14 15 16 17]]]\n"
     ]
    }
   ],
   "source": [
    "print(barr2)"
   ]
  },
  {
   "cell_type": "code",
   "execution_count": 253,
   "id": "9b29ad42",
   "metadata": {},
   "outputs": [
    {
     "data": {
      "text/plain": [
       "array([[[ 0,  2,  4,  6,  8, 10, 12, 14, 16],\n",
       "        [ 9, 11, 13, 15, 17, 19, 21, 23, 25]],\n",
       "\n",
       "       [[ 9, 11, 13, 15, 17, 19, 21, 23, 25],\n",
       "        [18, 20, 22, 24, 26, 28, 30, 32, 34]],\n",
       "\n",
       "       [[18, 20, 22, 24, 26, 28, 30, 32, 34],\n",
       "        [27, 29, 31, 33, 35, 37, 39, 41, 43]],\n",
       "\n",
       "       [[27, 29, 31, 33, 35, 37, 39, 41, 43],\n",
       "        [36, 38, 40, 42, 44, 46, 48, 50, 52]],\n",
       "\n",
       "       [[36, 38, 40, 42, 44, 46, 48, 50, 52],\n",
       "        [45, 47, 49, 51, 53, 55, 57, 59, 61]],\n",
       "\n",
       "       [[45, 47, 49, 51, 53, 55, 57, 59, 61],\n",
       "        [54, 56, 58, 60, 62, 64, 66, 68, 70]]])"
      ]
     },
     "execution_count": 253,
     "metadata": {},
     "output_type": "execute_result"
    }
   ],
   "source": [
    "barr1+barr2"
   ]
  },
  {
   "cell_type": "markdown",
   "id": "199be8b3",
   "metadata": {},
   "source": [
    "## Creating random number"
   ]
  },
  {
   "cell_type": "code",
   "execution_count": 277,
   "id": "7c8a8ff6",
   "metadata": {},
   "outputs": [],
   "source": [
    "nor_data = np.random.normal(size=(2,5))"
   ]
  },
  {
   "cell_type": "code",
   "execution_count": 278,
   "id": "43a6bfa9",
   "metadata": {},
   "outputs": [
    {
     "data": {
      "text/plain": [
       "array([[-2.16128879,  0.43107209, -0.1714667 ,  0.84191365, -0.75553026],\n",
       "       [ 0.64603971,  2.23010982, -0.54107584, -1.17749789, -0.8161112 ]])"
      ]
     },
     "execution_count": 278,
     "metadata": {},
     "output_type": "execute_result"
    }
   ],
   "source": [
    "nor_data"
   ]
  },
  {
   "cell_type": "code",
   "execution_count": 291,
   "id": "5f210f65",
   "metadata": {},
   "outputs": [],
   "source": [
    "## creating random integer\n",
    "in_data = np.random.randint(1,50,size=(3,4,5))"
   ]
  },
  {
   "cell_type": "code",
   "execution_count": 292,
   "id": "7268cd13",
   "metadata": {},
   "outputs": [
    {
     "data": {
      "text/plain": [
       "array([[[ 6,  5,  8, 25, 25],\n",
       "        [45, 35, 41, 16, 14],\n",
       "        [25, 16,  7, 22, 43],\n",
       "        [23, 12, 49, 13, 29]],\n",
       "\n",
       "       [[33, 16, 45, 41, 43],\n",
       "        [46, 44, 34, 46, 41],\n",
       "        [26, 10, 38,  1, 19],\n",
       "        [24,  4, 30, 17, 21]],\n",
       "\n",
       "       [[19, 49, 15, 16, 18],\n",
       "        [26, 47, 49, 43, 18],\n",
       "        [33, 18, 42, 17, 42],\n",
       "        [27, 13, 31, 18, 18]]])"
      ]
     },
     "execution_count": 292,
     "metadata": {},
     "output_type": "execute_result"
    }
   ],
   "source": [
    "in_data"
   ]
  },
  {
   "cell_type": "code",
   "execution_count": 301,
   "id": "976d5cb6",
   "metadata": {},
   "outputs": [
    {
     "data": {
      "text/plain": [
       "array([[5, 8, 9, 7, 8],\n",
       "       [8, 2, 3, 2, 6]])"
      ]
     },
     "execution_count": 301,
     "metadata": {},
     "output_type": "execute_result"
    }
   ],
   "source": [
    "## using seed can produce same random result\n",
    "np.random.seed(5)\n",
    "np.random.randint(2,10, size=(2,5))"
   ]
  },
  {
   "cell_type": "code",
   "execution_count": 298,
   "id": "fa12cf36",
   "metadata": {},
   "outputs": [
    {
     "data": {
      "text/plain": [
       "array([1, 4, 9, 5, 3, 0, 8, 7, 6, 2])"
      ]
     },
     "execution_count": 298,
     "metadata": {},
     "output_type": "execute_result"
    }
   ],
   "source": [
    "#permuting or arranging the random numbers in no of ways\n",
    "np.random.permutation(10)"
   ]
  },
  {
   "cell_type": "code",
   "execution_count": 310,
   "id": "567d072f",
   "metadata": {},
   "outputs": [],
   "source": [
    "#shuffling the number\n",
    "suf = [4,5,7,8,9,21,4]\n",
    "np.random.shuffle(suf)"
   ]
  },
  {
   "cell_type": "code",
   "execution_count": 311,
   "id": "a88ffa9a",
   "metadata": {},
   "outputs": [
    {
     "data": {
      "text/plain": [
       "[4, 4, 21, 7, 9, 5, 8]"
      ]
     },
     "execution_count": 311,
     "metadata": {},
     "output_type": "execute_result"
    }
   ],
   "source": [
    "suf"
   ]
  },
  {
   "cell_type": "markdown",
   "id": "11a6aa81",
   "metadata": {},
   "source": [
    "## vectorized operations"
   ]
  },
  {
   "cell_type": "code",
   "execution_count": 314,
   "id": "b9c399c2",
   "metadata": {},
   "outputs": [],
   "source": [
    "x = np.arange(15)"
   ]
  },
  {
   "cell_type": "code",
   "execution_count": 315,
   "id": "e95b8a9f",
   "metadata": {},
   "outputs": [
    {
     "data": {
      "text/plain": [
       "array([ 0,  1,  2,  3,  4,  5,  6,  7,  8,  9, 10, 11, 12, 13, 14])"
      ]
     },
     "execution_count": 315,
     "metadata": {},
     "output_type": "execute_result"
    }
   ],
   "source": [
    "x"
   ]
  },
  {
   "cell_type": "code",
   "execution_count": 316,
   "id": "38518a23",
   "metadata": {},
   "outputs": [
    {
     "data": {
      "text/plain": [
       "array([  0,   1,   4,   9,  16,  25,  36,  49,  64,  81, 100, 121, 144,\n",
       "       169, 196], dtype=int32)"
      ]
     },
     "execution_count": 316,
     "metadata": {},
     "output_type": "execute_result"
    }
   ],
   "source": [
    "#squaring\n",
    "np.square(x)"
   ]
  },
  {
   "cell_type": "code",
   "execution_count": 318,
   "id": "ae30acee",
   "metadata": {},
   "outputs": [
    {
     "data": {
      "text/plain": [
       "array([1.00000000e+00, 2.71828183e+00, 7.38905610e+00, 2.00855369e+01,\n",
       "       5.45981500e+01, 1.48413159e+02, 4.03428793e+02, 1.09663316e+03,\n",
       "       2.98095799e+03, 8.10308393e+03, 2.20264658e+04, 5.98741417e+04,\n",
       "       1.62754791e+05, 4.42413392e+05, 1.20260428e+06])"
      ]
     },
     "execution_count": 318,
     "metadata": {},
     "output_type": "execute_result"
    }
   ],
   "source": [
    "#exponenting\n",
    "np.exp(x)"
   ]
  },
  {
   "cell_type": "code",
   "execution_count": 319,
   "id": "530d0839",
   "metadata": {},
   "outputs": [
    {
     "data": {
      "text/plain": [
       "array([ 0.        ,  0.84147098,  0.90929743,  0.14112001, -0.7568025 ,\n",
       "       -0.95892427, -0.2794155 ,  0.6569866 ,  0.98935825,  0.41211849,\n",
       "       -0.54402111, -0.99999021, -0.53657292,  0.42016704,  0.99060736])"
      ]
     },
     "execution_count": 319,
     "metadata": {},
     "output_type": "execute_result"
    }
   ],
   "source": [
    "#trignometical function\n",
    "np.sin(x)"
   ]
  },
  {
   "cell_type": "code",
   "execution_count": 320,
   "id": "e6bc2d52",
   "metadata": {},
   "outputs": [
    {
     "data": {
      "text/plain": [
       "array([ 0.00000000e+00,  1.55740772e+00, -2.18503986e+00, -1.42546543e-01,\n",
       "        1.15782128e+00, -3.38051501e+00, -2.91006191e-01,  8.71447983e-01,\n",
       "       -6.79971146e+00, -4.52315659e-01,  6.48360827e-01, -2.25950846e+02,\n",
       "       -6.35859929e-01,  4.63021133e-01,  7.24460662e+00])"
      ]
     },
     "execution_count": 320,
     "metadata": {},
     "output_type": "execute_result"
    }
   ],
   "source": [
    "np.tan(x)"
   ]
  },
  {
   "cell_type": "code",
   "execution_count": 321,
   "id": "770a8dc2",
   "metadata": {},
   "outputs": [],
   "source": [
    "y =np.linspace(1,10,20)"
   ]
  },
  {
   "cell_type": "code",
   "execution_count": 322,
   "id": "472e2861",
   "metadata": {},
   "outputs": [
    {
     "data": {
      "text/plain": [
       "array([ 1.        ,  1.47368421,  1.94736842,  2.42105263,  2.89473684,\n",
       "        3.36842105,  3.84210526,  4.31578947,  4.78947368,  5.26315789,\n",
       "        5.73684211,  6.21052632,  6.68421053,  7.15789474,  7.63157895,\n",
       "        8.10526316,  8.57894737,  9.05263158,  9.52631579, 10.        ])"
      ]
     },
     "execution_count": 322,
     "metadata": {},
     "output_type": "execute_result"
    }
   ],
   "source": [
    "y"
   ]
  },
  {
   "cell_type": "code",
   "execution_count": 323,
   "id": "158036ce",
   "metadata": {},
   "outputs": [
    {
     "data": {
      "text/plain": [
       "array([ 1.,  2.,  2.,  3.,  3.,  4.,  4.,  5.,  5.,  6.,  6.,  7.,  7.,\n",
       "        8.,  8.,  9.,  9., 10., 10., 10.])"
      ]
     },
     "execution_count": 323,
     "metadata": {},
     "output_type": "execute_result"
    }
   ],
   "source": [
    "#celing\n",
    "np.ceil(y)"
   ]
  },
  {
   "cell_type": "code",
   "execution_count": 324,
   "id": "b4e4b683",
   "metadata": {},
   "outputs": [
    {
     "data": {
      "text/plain": [
       "array([ 1.,  1.,  1.,  2.,  2.,  3.,  3.,  4.,  4.,  5.,  5.,  6.,  6.,\n",
       "        7.,  7.,  8.,  8.,  9.,  9., 10.])"
      ]
     },
     "execution_count": 324,
     "metadata": {},
     "output_type": "execute_result"
    }
   ],
   "source": [
    "#flooring\n",
    "np.floor(y)"
   ]
  },
  {
   "cell_type": "code",
   "execution_count": null,
   "id": "68f42053",
   "metadata": {},
   "outputs": [],
   "source": []
  }
 ],
 "metadata": {
  "kernelspec": {
   "display_name": "Python 3",
   "language": "python",
   "name": "python3"
  },
  "language_info": {
   "codemirror_mode": {
    "name": "ipython",
    "version": 3
   },
   "file_extension": ".py",
   "mimetype": "text/x-python",
   "name": "python",
   "nbconvert_exporter": "python",
   "pygments_lexer": "ipython3",
   "version": "3.8.8"
  }
 },
 "nbformat": 4,
 "nbformat_minor": 5
}
